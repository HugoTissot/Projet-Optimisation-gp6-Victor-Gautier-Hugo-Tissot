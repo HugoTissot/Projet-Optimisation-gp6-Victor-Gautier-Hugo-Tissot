{
 "cells": [
  {
   "cell_type": "markdown",
   "metadata": {},
   "source": [
    "## Question 1) "
   ]
  },
  {
   "cell_type": "markdown",
   "metadata": {},
   "source": [
    "$\\text{élasticité-prix du lait: }\\varepsilon_l=\\frac{p_{l}}{x_{l}}\\frac{\\Delta x_{l}}{\\Delta p_{l}} \\\\\n",
    "\\text{élasticité-prix du beurre: }\\varepsilon_b=\\frac{p_{b}}{x_{b}}\\frac{\\Delta x_{b}}{\\Delta p_{b}} \\\\\n",
    "\\text{élasticité-prix croisée gouda-edam: }\\varepsilon_{g/e}=\\frac{p_{e}}{x_{g}}\\frac{\\Delta x_{g}}{\\Delta p_{e}} \\\\\n",
    "\\text{élasticité-prix croisée edam-gouda: }\\varepsilon_{e/g}=\\frac{p_{g}}{x_{e}}\\frac{\\Delta x_{e}}{\\Delta p_{g}} \\\\ $\n"
   ]
  },
  {
   "cell_type": "markdown",
   "metadata": {},
   "source": [
    "$\\text{relation 1: }\\large{\\Delta p_{l}=\\frac{p_{l}}{x_{l}}\\frac{\\Delta x_{l}}{\\varepsilon_l}} \\\\\n",
    "\\text{relation 2: }\\large{\\Delta p_{b}=\\frac{p_{b}}{x_{b}}\\frac{\\Delta x_{b}}{\\varepsilon_b}} \\\\\n",
    "\\text{relation 3: }\\large{\\Delta p_{e}=\\frac{p_{e}}{x_{g}}\\frac{\\Delta x_{g}}{\\varepsilon_{g/e}}} \\\\\n",
    "\\text{relation 4: }\\large{\\Delta p_{g}=\\frac{p_{g}}{x_{e}}\\frac{\\Delta x_{e}}{\\varepsilon_{e/g}}}$"
   ]
  },
  {
   "cell_type": "code",
   "execution_count": null,
   "metadata": {},
   "outputs": [],
   "source": []
  },
  {
   "cell_type": "markdown",
   "metadata": {},
   "source": [
    "## Question 3)\n",
    "\n",
    "\n",
    "$\\text{Condition pour la quantité totale de lactose :}\\large { C_{2}(x_{l},x_{b},x_{e},x_{g}) : Lac_{tot} = x_{l}TL_{l} + x_{b}TL_{b} + x_{g}TL_{g} + x_{e}TL_{e}}$"
   ]
  },
  {
   "cell_type": "markdown",
   "metadata": {},
   "source": [
    "## Question 4)\n",
    "\n",
    "$\\text{Condition pour garantir la paix sociale : }\\large{C_{3}(x_{l},x_{b},x_{e},x_{g}) : \\frac{\\Delta p_{l}}{p_{l}}B_{l} + \\frac{\\Delta p_{b}}{p_{b}}B_{b} + \\frac{\\Delta p_{e}}{p_{e}}B_{e} + \\frac{\\Delta p_{g}}{p_{g}}B_{g} \\leq 0}$"
   ]
  },
  {
   "cell_type": "markdown",
   "metadata": {},
   "source": [
    "## Question 5)\n",
    "\n",
    "$\\text{On doit ajouter à ces 3 contraintes, 4 contraintes conçernant les quantités de produits laitiers à produire, à savoir : }\\large{C_{4}(x_{l}) : x_{l} \\geq 0 , C_{5}(x_{b}) \\geq 0 , C_{6}(x_{e}) \\geq 0 , C_{7}(x_{g}) \\geq 0}$"
   ]
  }
 ],
 "metadata": {
  "kernelspec": {
   "display_name": "Python 3",
   "language": "python",
   "name": "python3"
  },
  "language_info": {
   "codemirror_mode": {
    "name": "ipython",
    "version": 3
   },
   "file_extension": ".py",
   "mimetype": "text/x-python",
   "name": "python",
   "nbconvert_exporter": "python",
   "pygments_lexer": "ipython3",
   "version": "3.7.4"
  }
 },
 "nbformat": 4,
 "nbformat_minor": 2
}
