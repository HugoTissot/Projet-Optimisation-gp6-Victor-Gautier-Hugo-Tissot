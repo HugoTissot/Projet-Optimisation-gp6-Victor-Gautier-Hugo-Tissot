{
 "cells": [
  {
   "cell_type": "markdown",
   "metadata": {},
   "source": [
    "# Projet \"Tout un fromage\": partie modélisation "
   ]
  },
  {
   "cell_type": "markdown",
   "metadata": {},
   "source": [
    "###  Hugo TISSOT - Victor GAUTIER"
   ]
  },
  {
   "cell_type": "markdown",
   "metadata": {},
   "source": [
    "## Question 1) "
   ]
  },
  {
   "cell_type": "markdown",
   "metadata": {},
   "source": [
    "$\\text{élasticité-prix du lait: }\\varepsilon_l=\\frac{p_{l}^{N}}{x_{l}^{N}}\\frac{\\Delta x_{l}}{\\Delta p_{l}} \\\\\n",
    "\\text{élasticité-prix du beurre: }\\varepsilon_b=\\frac{p_{b}^{N}}{x_{b}^{N}}\\frac{\\Delta x_{b}}{\\Delta p_{b}} \\\\\n",
    "\\text{élasticité-prix croisée gouda-edam: }\\varepsilon_{g/e}=\\frac{p_{e}^{N}}{x_{g}^{N}}\\frac{\\Delta x_{g}}{\\Delta p_{e}} \\\\\n",
    "\\text{élasticité-prix croisée edam-gouda: }\\varepsilon_{e/g}=\\frac{p_{g}^{N}}{x_{e}^{N}}\\frac{\\Delta x_{e}}{\\Delta p_{g}} \\\\ $\n"
   ]
  },
  {
   "cell_type": "markdown",
   "metadata": {},
   "source": [
    "$\\text{relation 1: }\\large{\\Delta p_{l}=\\frac{p_{l}^{N}}{x_{l}^{N}}\\frac{\\Delta x_{l}}{\\varepsilon_l}} \\\\\n",
    "\\text{relation 2: }\\large{\\Delta p_{b}=\\frac{p_{b^{N}}}{x_{b}^{N}}\\frac{\\Delta x_{b}}{\\varepsilon_b}} \\\\\n",
    "\\text{relation 3: }\\large{\\Delta p_{e}=\\frac{p_{e}^{N}}{x_{g}^{N}}\\frac{\\Delta x_{g}}{\\varepsilon_{g/e}}} \\\\\n",
    "\\text{relation 4: }\\large{\\Delta p_{g}=\\frac{p_{g}^{N}}{x_{e}^{N}}\\frac{\\Delta x_{e}}{\\varepsilon_{e/g}}}$\n",
    "\n",
    "Avec $\\Delta x = x^{N+1} - x^{N} \\text{ et } \\Delta p = p^{N+1} - p^{N} \\text{ où } x^{N} \\text{ et } p^{N} \\text{correspondent respectivement au quantité et au prix d'un produit à l'année N}$"
   ]
  },
  {
   "cell_type": "markdown",
   "metadata": {},
   "source": [
    "## Question 2) "
   ]
  },
  {
   "cell_type": "markdown",
   "metadata": {},
   "source": [
    "$\\text{On note: } \\\\\n",
    "MG_{tot}\\text{ la quantité de matière grasse totale} \\\\\n",
    "TM_{i}\\text{ le taux de matière grasse pour le produit i} \\\\\n",
    "\\text{On a donc: } \\\\\n",
    "MG_{tot}=TM_{l}\\,x_{l}^{N+1}+TM_{b}\\,x_{b}^{N+1}+TM_{e}\\,x_{e}^{N+1}+TM_{g}\\,x_{g}^{N+1} \\\\ $\n"
   ]
  },
  {
   "cell_type": "markdown",
   "metadata": {},
   "source": [
    "$\\text{La contrainte associée est donc la contrainte d'égalité: } \\\\\n",
    "\\large{C_1(x_l^{N+1},x_b^{N+1},x_e^{N+1},x_g^{N+1})=MG_{tot}-TM_{l}\\,x_{l}^{N+1}-TM_{b}\\,x_{b}^{N+1}-TM_{e}\\,x_{e}^{N+1}-TM_{g}\\,x_{g}^{N+1}=0}$"
   ]
  },
  {
   "cell_type": "markdown",
   "metadata": {},
   "source": [
    "## Question 3)\n",
    "\n",
    "\n",
    "$\\text{Condition pour la quantité totale de lactose : }\\\\ \\large { C_{2}(x_{l}^{N+1},x_{b}^{N+1},x_{e}^{N+1},x_{g}^{N+1}) = Lac_{tot} - x_{l}^{N+1}TL_{l} - x_{b}^{N+1}TL_{b} - x_{g}^{N+1}TL_{g} - x_{e}^{N+1}TL_{e} = 0}$\n",
    "\n",
    "Avec $TL_{i}$ les teneurs en lactose pour le produit i"
   ]
  },
  {
   "cell_type": "markdown",
   "metadata": {},
   "source": [
    "## Question 4)\n",
    "\n",
    "$\\text{Condition pour garantir la paix sociale : }\\\\ \\large{C_{3}(x_{l}^{N+1},x_{b}^{N+1},x_{e}^{N+1},x_{g}^{N+1}) = \\frac{\\Delta p_{l}}{p_{l}^{N}}B_{l} + \\frac{\\Delta p_{b}}{p_{b}^{N}}B_{b} + \\frac{\\Delta p_{e}}{p_{e}^{N}}B_{e} + \\frac{\\Delta p_{g}}{p_{g}^{N}}B_{g} \\leq 0}$\n",
    "\n",
    "Avec $B_{i}$ les parts de budget pour le produit i\n",
    "\n",
    "$\\text{Soit en exprimant les prix en fonction des quantités grâce à l'élasticité : }\\\\ \\large{C_{3}(x_{l}^{N+1},x_{b}^{N+1},x_{e}^{N+1},x_{g}^{N+1}) = \\frac{\\Delta x_{l}}{x_{l}^{N}}B_{l}\\frac{1}{\\varepsilon_l} + \\frac{\\Delta x_{b}}{x_{b}^{N}}B_{b}\\frac{1}{\\varepsilon_b} + \\frac{\\Delta x_{g}}{x_{g}^{N}}B_{e}\\frac{1}{\\varepsilon_{e/g}} + \\frac{\\Delta x_{e}}{x_{e}^{N}}B_{g}\\frac{1}{\\varepsilon_{g/e}} \\leq 0}$"
   ]
  },
  {
   "cell_type": "markdown",
   "metadata": {},
   "source": [
    "## Question 5)\n",
    "\n",
    "$\\text{On doit ajouter à ces 3 contraintes, 4 contraintes conçernant les quantités de produits laitiers à produire, à savoir : }\\\\ \\large{C_{4}(x_{l}) : x_{l} \\geq 0 , C_{5}(x_{b}) : x_{b} \\geq 0 , C_{6}(x_{e}) : x_{e} \\geq 0 , C_{7}(x_{g}) : x_{g} \\geq 0}$\n",
    "\n",
    "$\\text{La fonction qu'il revient à maximiser est la fonction de profit : } \\large{ f(x_{l},x_{b},x_{e},x_{g}) = p_{l}x_{l} + p_{b}x_{b} + p_{e}x_{e} + p_{g}x_{g}}$\n",
    "\n",
    "$\\text{En tenant compte des 7 contraintes Ci pour i compris entre 1 et 7}$"
   ]
  },
  {
   "cell_type": "markdown",
   "metadata": {},
   "source": [
    "$\\text{En utilisant la question 1), on obtient: } \\\\\n",
    "\\large{ f(x_{l}^{N+1},x_{b}^{N+1},x_{e}^{N+1},x_{g}^{N+1}) = (\\frac{p_{l}^N}{x_{l}^N}\\frac{\\Delta x_{l}}{\\varepsilon_l}+p_l^N)\\, x_{l}^{N+1} + (\\frac{p_{b}^N}{x_{b}^N}\\frac{\\Delta x_{b}}{\\varepsilon_b}+p_b^N) \\,x_{b}^{N+1} + (\\frac{p_{e}^N}{x_{g}^N}\\frac{\\Delta x_{g}}{\\varepsilon_{g/e}}+p_e^N) \\, x_{e}^{N+1} + (\\frac{p_{g}^N}{x_{e}^N}\\frac{\\Delta x_{e}}{\\varepsilon_{e/g}}+p_g^N)\\,x_{g}^{N+1}}$"
   ]
  },
  {
   "cell_type": "markdown",
   "metadata": {},
   "source": [
    "$\\text{Le problème d'optimisation sous contrainte est donc: } \\quad\n",
    "\\underset{ C(x^{N+1})\\,\\leq\\, 0}{min}\\; g(x^{N+1})$"
   ]
  },
  {
   "cell_type": "markdown",
   "metadata": {},
   "source": [
    "$\\text{Avec: } \\\\\n",
    "\\begin{array}{ccccc}\n",
    "g & : & \\mathbb{R}^4 & \\to& \\mathbb{R}& \\\\\n",
    " & & (x_{l}^{N+1},x_{b}^{N+1},x_{e}^{N+1},x_{g}^{N+1}) & \\mapsto&  -\\;(\\frac{p_{l}^N}{x_{l}^N}\\frac{\\Delta x_{l}}{\\varepsilon_l}+&\\!\\!\\!\\!\\!p_l^N)\\, x_{l}^{N+1} - (\\frac{p_{b}^N}{x_{b}^N}\\frac{\\Delta x_{b}}{\\varepsilon_b}+p_b^N) \\,x_{b}^{N+1} - (\\frac{p_{e}^N}{x_{g}^N}\\frac{\\Delta x_{g}}{\\varepsilon_{g/e}}+p_e^N) \\, x_{e}^{N+1} - (\\frac{p_{g}^N}{x_{e}^N}\\frac{\\Delta x_{e}}{\\varepsilon_{e/g}}+p_g^N)\\,x_{g}^{N+1} \\\\\n",
    "\\end{array} $\n"
   ]
  },
  {
   "cell_type": "markdown",
   "metadata": {},
   "source": [
    "$\\begin{array}{ccccc}\n",
    "C & : & \\mathbb{R}^4 & \\to& \\mathbb{R}^7& \\\\\n",
    " & & (x_{l}^{N+1},x_{b}^{N+1},x_{e}^{N+1},x_{g}^{N+1}) & \\mapsto&  \n",
    " \\left(\\!\n",
    "    \\begin{array}{c}\n",
    "      MG_{tot}-TM_{l}\\,x_{l}^{N+1}-TM_{b}\\,x_{b}^{N+1}-TM_{e}\\,x_{e}^{N+1}-TM_{g}\\,x_{g}^{N+1} \\\\\n",
    "      Lac_{tot} - x_{l}^{N+1}TL_{l} - x_{b}^{N+1}TL_{b} - x_{g}^{N+1}TL_{g} - x_{e}^{N+1}TL_{e} \\\\\n",
    "      \\frac{1}{x_{l}^N}\\frac{\\Delta x_{l}}{\\epsilon_l}B_{l} + \\frac{1}{x_{b}^N}\\frac{\\Delta x_{b}}{\\epsilon_b}B_{b} + \\frac{1}{x_{g}^N}\\frac{\\Delta x_{g}}{\\epsilon_{g/e}}B_{e} + \\frac{1}{x_{e}^N}\\frac{\\Delta x_{e}}{\\epsilon_{e/g}}B_{g} \\\\\n",
    "      -x_{l}^{N+1} \\\\\n",
    "      -x_{b}^{N+1} \\\\\n",
    "      -x_{e}^{N+1} \\\\\n",
    "      -x_{g}^{N+1} \\\\\n",
    "    \\end{array}\n",
    "  \\!\\right) \\\\\n",
    "\\end{array} $"
   ]
  }
 ],
 "metadata": {
  "kernelspec": {
   "display_name": "Python 3",
   "language": "python",
   "name": "python3"
  },
  "language_info": {
   "codemirror_mode": {
    "name": "ipython",
    "version": 3
   },
   "file_extension": ".py",
   "mimetype": "text/x-python",
   "name": "python",
   "nbconvert_exporter": "python",
   "pygments_lexer": "ipython3",
   "version": "3.7.4"
  }
 },
 "nbformat": 4,
 "nbformat_minor": 2
}
